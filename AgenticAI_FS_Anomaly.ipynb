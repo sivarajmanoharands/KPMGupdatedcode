{
 "cells": [
  {
   "cell_type": "code",
   "execution_count": 1,
   "id": "058c3f8f-adc2-4cd3-9b1d-b16846909b32",
   "metadata": {},
   "outputs": [],
   "source": [
    "import os\n",
    "import re\n",
    "import logging\n",
    "import pandas as pd\n",
    "import numpy as np\n",
    "import pdfplumber\n",
    "from sklearn.ensemble import IsolationForest\n",
    "from sklearn.cluster import KMeans\n",
    "from sklearn.decomposition import PCA\n",
    "from sklearn.neural_network import MLPRegressor\n",
    "from sklearn.impute import SimpleImputer\n",
    "from sklearn.metrics import precision_score, recall_score, f1_score, accuracy_score, confusion_matrix\n",
    "import matplotlib.pyplot as plt\n",
    "import seaborn as sns"
   ]
  },
  {
   "cell_type": "code",
   "execution_count": 2,
   "id": "83739283-998f-4582-9620-5074d8b692d5",
   "metadata": {},
   "outputs": [],
   "source": [
    "logging.basicConfig(level=logging.INFO, format='%(asctime)s - %(levelname)s - %(message)s')"
   ]
  },
  {
   "cell_type": "code",
   "execution_count": 3,
   "id": "81d7653a-4c61-4aad-bd48-da8c9b9e073c",
   "metadata": {},
   "outputs": [],
   "source": [
    "def allowed_file(filename):\n",
    "    return '.' in filename and filename.rsplit('.', 1)[1].lower() in {'pdf'}"
   ]
  },
  {
   "cell_type": "code",
   "execution_count": 4,
   "id": "9d108f57-8c59-499b-b747-73ec99844da3",
   "metadata": {},
   "outputs": [],
   "source": [
    "def extract_csv_from_pdf(pdf_path):\n",
    "    try:\n",
    "        with pdfplumber.open(pdf_path) as pdf:\n",
    "            all_text = \"\"\n",
    "            for page in pdf.pages:\n",
    "                all_text += page.extract_text()\n",
    "\n",
    "        lines = re.split(r'\\r?\\n|\\r', all_text)\n",
    "        lines = [line.strip() for line in lines if line.strip()]\n",
    "\n",
    "        column_names = ['Year', 'Company', 'Market_Cap_in_B_USD', 'Revenue', 'Gross_Profit', \n",
    "                        'Net_Income', 'Cash_Flow_from_Operating', 'Cash_Flow_from_Investing', \n",
    "                        'Cash_Flow_from_Financial_Activities', 'Debt_Equity_Ratio']\n",
    "        \n",
    "        data_lines = [line.split(',') for line in lines]\n",
    "        final_data = []\n",
    "        \n",
    "        for line in data_lines:\n",
    "            cleaned_line = [element.strip() for element in line]\n",
    "            if len(cleaned_line) < len(column_names):\n",
    "                cleaned_line += [''] * (len(column_names) - len(cleaned_line))\n",
    "            final_data.append(cleaned_line)\n",
    "\n",
    "        df = pd.DataFrame(final_data, columns=column_names)\n",
    "        for col in column_names[0:1] + column_names[2:]:\n",
    "            df[col] = pd.to_numeric(df[col], errors='coerce')\n",
    "        \n",
    "        df = df.dropna(thresh=len(df.columns) // 2)\n",
    "        return df\n",
    "\n",
    "    except Exception as e:\n",
    "        logging.error(f\"PDF processing error: {str(e)}\")\n",
    "        raise ValueError(f\"An error occurred during PDF processing: {str(e)}\")\n"
   ]
  },
  {
   "cell_type": "code",
   "execution_count": 5,
   "id": "d311e375-84ff-4d4f-b871-4720a9ba847c",
   "metadata": {},
   "outputs": [],
   "source": [
    "class AgenticAI:\n",
    "    def __init__(self):\n",
    "        self.models = {}\n",
    "\n",
    "    def initialize_models(self):\n",
    "        self.models['IsolationForest'] = IsolationForest(contamination=0.1, random_state=42)\n",
    "        self.models['KMeans'] = KMeans(n_clusters=2, random_state=42)\n",
    "        self.models['PCA'] = PCA(n_components=2)\n",
    "        self.models['Autoencoder'] = MLPRegressor(hidden_layer_sizes=(128, 64, 128), max_iter=200, random_state=42)\n",
    "\n",
    "    def preprocess_data(self, data):\n",
    "        features = data[['Revenue', 'Net_Income', 'Debt_Equity_Ratio']]\n",
    "        imputer = SimpleImputer(strategy='mean')\n",
    "        features_imputed = pd.DataFrame(imputer.fit_transform(features), columns=features.columns)\n",
    "        return features_imputed\n",
    "\n",
    "    def detect_anomalies(self, data, features_imputed):\n",
    "        data['IsolationForest'] = self.models['IsolationForest'].fit_predict(features_imputed)\n",
    "        data['KMeans'] = self.models['KMeans'].fit_predict(features_imputed)\n",
    "\n",
    "        reduced_features = self.models['PCA'].fit_transform(features_imputed)\n",
    "        data['PCA_Component_1'] = reduced_features[:, 0]\n",
    "        data['PCA_Component_2'] = reduced_features[:, 1]\n",
    "\n",
    "        self.models['Autoencoder'].fit(features_imputed, features_imputed)\n",
    "        reconstructed = self.models['Autoencoder'].predict(features_imputed)\n",
    "        reconstruction_error = ((features_imputed - reconstructed) ** 2).mean(axis=1)\n",
    "        data['ReconstructionError'] = reconstruction_error\n",
    "\n",
    "        threshold = reconstruction_error.mean() + 1.5 * reconstruction_error.std()\n",
    "        data['Autoencoder'] = (reconstruction_error > threshold).astype(int)\n",
    "\n",
    "        return data\n",
    "\n",
    "    def proactive_suggestions(self, data):\n",
    "        suggestions = []\n",
    "        anomalies = data[data['IsolationForest'] == -1]\n",
    "        for _, anomaly in anomalies.iterrows():\n",
    "            suggestions.append(f\"High-risk company detected: Year={anomaly['Year']}, Revenue={anomaly['Revenue']}\")\n",
    "        return suggestions\n",
    "\n",
    "    def run(self, data):\n",
    "        self.initialize_models()\n",
    "        features_imputed = self.preprocess_data(data)\n",
    "        processed_data = self.detect_anomalies(data.copy(), features_imputed)\n",
    "        suggestions = self.proactive_suggestions(processed_data)\n",
    "        return processed_data, suggestions"
   ]
  },
  {
   "cell_type": "code",
   "execution_count": 6,
   "id": "40e76699-7707-4fac-bce6-f1adaf0cc1c6",
   "metadata": {},
   "outputs": [],
   "source": [
    "def calculate_metrics(true_labels, predictions):\n",
    "    \"\"\"Calculate and return evaluation metrics.\"\"\"\n",
    "    accuracy = accuracy_score(true_labels, predictions)\n",
    "    precision = precision_score(true_labels, predictions, zero_division=0)\n",
    "    recall = recall_score(true_labels, predictions, zero_division=0)\n",
    "    f1 = f1_score(true_labels, predictions, zero_division=0)\n",
    "    return accuracy, precision, recall, f1\n"
   ]
  },
  {
   "cell_type": "code",
   "execution_count": 7,
   "id": "d38227aa-c270-48a8-816d-64589338c603",
   "metadata": {},
   "outputs": [
    {
     "name": "stderr",
     "output_type": "stream",
     "text": [
      "2024-12-03 09:14:38,772 - INFO - PDF data extraction completed successfully.\n"
     ]
    },
    {
     "name": "stdout",
     "output_type": "stream",
     "text": [
      "\n",
      "Evaluation Metrics:\n",
      "Accuracy: 0.79\n",
      "Precision: 0.00\n",
      "Recall: 0.00\n",
      "F1-Score: 0.00\n"
     ]
    },
    {
     "data": {
      "image/png": "[encoded data removed]",
      "text/plain": [
       "<Figure size 800x600 with 2 Axes>"
      ]
     },
     "metadata": {},
     "output_type": "display_data"
    },
    {
     "name": "stdout",
     "output_type": "stream",
     "text": [
      "\n",
      "Proactive Suggestions:\n",
      "High-risk company detected: Year=2022.0, Revenue=394328.0\n",
      "High-risk company detected: Year=2010.0, Revenue=65225.0\n"
     ]
    }
   ],
   "source": [
    "pdf_path = 'financialstatement.pdf'\n",
    "try:\n",
    "    data = extract_csv_from_pdf(pdf_path)\n",
    "    logging.info(\"PDF data extraction completed successfully.\")\n",
    "    anomaly_indices = np.random.choice(data.index, size=int(len(data) * 0.1), replace=False)\n",
    "    data['True_Anomaly'] = 0\n",
    "    data.loc[anomaly_indices, 'True_Anomaly'] = 1\n",
    "    agent = AgenticAI()\n",
    "    processed_data, suggestions = agent.run(data)\n",
    "    true_labels = data['True_Anomaly']\n",
    "    predicted_labels = (processed_data['IsolationForest'] == -1).astype(int)\n",
    "    accuracy, precision, recall, f1 = calculate_metrics(true_labels, predicted_labels)\n",
    "    print(\"\\nEvaluation Metrics:\")\n",
    "    print(f\"Accuracy: {accuracy:.2f}\")\n",
    "    print(f\"Precision: {precision:.2f}\")\n",
    "    print(f\"Recall: {recall:.2f}\")\n",
    "    print(f\"F1-Score: {f1:.2f}\")\n",
    "    cm = confusion_matrix(true_labels, predicted_labels)\n",
    "    plt.figure(figsize=(8, 6))\n",
    "    sns.heatmap(cm, annot=True, fmt='d', cmap='Blues', xticklabels=['Normal', 'Anomaly'], yticklabels=['Normal', 'Anomaly'])\n",
    "    plt.title(\"Confusion Matrix\")\n",
    "    plt.xlabel(\"Predicted\")\n",
    "    plt.ylabel(\"True\")\n",
    "    plt.show()\n",
    "\n",
    "    # Proactive Suggestions\n",
    "    print(\"\\nProactive Suggestions:\")\n",
    "    for suggestion in suggestions:\n",
    "        print(suggestion)\n",
    "\n",
    "except Exception as e:\n",
    "    print(f\"An error occurred: {e}\")\n"
   ]
  },
  {
   "cell_type": "code",
   "execution_count": 8,
   "id": "d583178b-d6a3-4c40-aa31-f9953d40e297",
   "metadata": {},
   "outputs": [
    {
     "data": {
      "image/png": "[encoded data removed]",
      "text/plain": [
       "<Figure size 1000x600 with 1 Axes>"
      ]
     },
     "metadata": {},
     "output_type": "display_data"
    }
   ],
   "source": [
    "plt.figure(figsize=(10, 6))\n",
    "plt.scatter(range(len(data)), true_labels, color='blue', label='True Anomalies')\n",
    "plt.scatter(range(len(data)), predicted_labels, color='red', alpha=0.5, label='Predicted Anomalies')\n",
    "plt.legend()\n",
    "plt.title(\"True vs Predicted Anomalies\")\n",
    "plt.show()\n"
   ]
  },
  {
   "cell_type": "code",
   "execution_count": null,
   "id": "40ccb0aa-6d32-4be4-aaed-517a8d068ac4",
   "metadata": {},
   "outputs": [],
   "source": []
  }
 ],
 "metadata": {
  "kernelspec": {
   "display_name": "Python 3 (ipykernel)",
   "language": "python",
   "name": "python3"
  },
  "language_info": {
   "codemirror_mode": {
    "name": "ipython",
    "version": 3
   },
   "file_extension": ".py",
   "mimetype": "text/x-python",
   "name": "python",
   "nbconvert_exporter": "python",
   "pygments_lexer": "ipython3",
   "version": "3.9.13"
  },
  "widgets": {
   "application/vnd.jupyter.widget-state+json": {
    "state": {},
    "version_major": 2,
    "version_minor": 0
   }
  }
 },
 "nbformat": 4,
 "nbformat_minor": 5
}
